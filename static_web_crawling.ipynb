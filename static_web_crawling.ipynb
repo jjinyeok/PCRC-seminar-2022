{
 "cells": [
  {
   "cell_type": "markdown",
   "metadata": {},
   "source": [
    "### 정적 웹 크롤링 실습"
   ]
  },
  {
   "cell_type": "code",
   "execution_count": 2,
   "metadata": {},
   "outputs": [
    {
     "name": "stdout",
     "output_type": "stream",
     "text": [
      "Requirement already satisfied: pandas in /Library/Frameworks/Python.framework/Versions/3.9/lib/python3.9/site-packages (1.4.4)\n",
      "Requirement already satisfied: requests in /Library/Frameworks/Python.framework/Versions/3.9/lib/python3.9/site-packages (2.27.1)\n",
      "Requirement already satisfied: bs4 in /Library/Frameworks/Python.framework/Versions/3.9/lib/python3.9/site-packages (0.0.1)\n",
      "Requirement already satisfied: pytz>=2020.1 in /Library/Frameworks/Python.framework/Versions/3.9/lib/python3.9/site-packages (from pandas) (2022.2.1)\n",
      "Requirement already satisfied: python-dateutil>=2.8.1 in /Library/Frameworks/Python.framework/Versions/3.9/lib/python3.9/site-packages (from pandas) (2.8.2)\n",
      "Requirement already satisfied: numpy>=1.20.0 in /Library/Frameworks/Python.framework/Versions/3.9/lib/python3.9/site-packages (from pandas) (1.22.3)\n",
      "Requirement already satisfied: urllib3<1.27,>=1.21.1 in /Library/Frameworks/Python.framework/Versions/3.9/lib/python3.9/site-packages (from requests) (1.26.9)\n",
      "Requirement already satisfied: certifi>=2017.4.17 in /Library/Frameworks/Python.framework/Versions/3.9/lib/python3.9/site-packages (from requests) (2021.10.8)\n",
      "Requirement already satisfied: charset-normalizer~=2.0.0 in /Library/Frameworks/Python.framework/Versions/3.9/lib/python3.9/site-packages (from requests) (2.0.12)\n",
      "Requirement already satisfied: idna<4,>=2.5 in /Library/Frameworks/Python.framework/Versions/3.9/lib/python3.9/site-packages (from requests) (3.3)\n",
      "Requirement already satisfied: beautifulsoup4 in /Library/Frameworks/Python.framework/Versions/3.9/lib/python3.9/site-packages (from bs4) (4.11.1)\n",
      "Requirement already satisfied: six>=1.5 in /Library/Frameworks/Python.framework/Versions/3.9/lib/python3.9/site-packages (from python-dateutil>=2.8.1->pandas) (1.16.0)\n",
      "Requirement already satisfied: soupsieve>1.2 in /Library/Frameworks/Python.framework/Versions/3.9/lib/python3.9/site-packages (from beautifulsoup4->bs4) (2.3.2.post1)\n",
      "\u001b[33mWARNING: You are using pip version 22.0.4; however, version 22.2.2 is available.\n",
      "You should consider upgrading via the '/usr/local/bin/python3 -m pip install --upgrade pip' command.\u001b[0m\u001b[33m\n",
      "\u001b[0mNote: you may need to restart the kernel to use updated packages.\n"
     ]
    }
   ],
   "source": [
    "%pip install pandas requests bs4"
   ]
  },
  {
   "cell_type": "code",
   "execution_count": 3,
   "metadata": {},
   "outputs": [],
   "source": [
    "import pandas as pd\n",
    "import requests\n",
    "from bs4 import BeautifulSoup"
   ]
  },
  {
   "cell_type": "code",
   "execution_count": 28,
   "metadata": {},
   "outputs": [
    {
     "name": "stdout",
     "output_type": "stream",
     "text": [
      "<Response [200]>\n",
      "<!DOCTYPE html> <html lang=\"ko\"> <head> <meta http-equiv=\"Content-Type\" content=\"text/html; charset=\n",
      "['홍익대학교 클래스넷', '홍익대학교 세종캠퍼스', '홍익대학교 서울캠퍼스 빠른길찾기', '홍익대학교 입시정보', '홍익대학교 수시등급', '홍익대학교 빠른길찾기', '홍익대학교 기숙사', '홍익대학교 경쟁률', '홍익대학교 입학처', '홍익대학교세종캠퍼스 빠른길찾기']\n"
     ]
    }
   ],
   "source": [
    "url = 'https://m.search.naver.com/search.naver?query=홍익대학교'\n",
    "\n",
    "response = requests.get(url)\n",
    "print(response) # <Response [200]>\n",
    "print(response.text[:100])\n",
    "# <!DOCTYPE html> <html lang=\"ko\"> <head> <meta http-equiv=\"Content-Type\" content=\"text/html; charset=\n",
    "\n",
    "dom = BeautifulSoup(response.text, 'html.parser')\n",
    "elements = dom.select('#_related_keywords_aside > div > div > div > a')\n",
    "keywords = [element.text for element in elements]\n",
    "print(keywords) \n",
    "# ['홍익대학교 클래스넷', '홍익대학교 세종캠퍼스', '홍익대학교 서울캠퍼스 빠른길찾기', '홍익대학교 입시정보', '홍익대학교 수시등급', \n",
    "#  '홍익대학교 빠른길찾기', '홍익대학교 기숙사', '홍익대학교 경쟁률', '홍익대학교 입학처', '홍익대학교세종캠퍼스 빠른길찾기']\n"
   ]
  },
  {
   "cell_type": "code",
   "execution_count": 26,
   "metadata": {},
   "outputs": [],
   "source": [
    "def find_related_search_terms(keyword):\n",
    "    import requests\n",
    "    from bs4 import BeautifulSoup\n",
    "    url = f'https://m.search.naver.com/search.naver?query={keyword}'\n",
    "    response = requests.get(url)\n",
    "    dom = BeautifulSoup(response.text, 'html.parser')\n",
    "    elements = dom.select('#_related_keywords_aside > div > div > div > a')\n",
    "    keywords = [element.text for element in elements]\n",
    "    return keywords\n"
   ]
  },
  {
   "cell_type": "code",
   "execution_count": 30,
   "metadata": {},
   "outputs": [
    {
     "data": {
      "text/plain": [
       "['kt 고객센터', 'kt 인터넷', 'ky', '환율', 'kt 대리점', 'SKT', 'kr', '애플', '쿠팡', 'kt 주가']"
      ]
     },
     "execution_count": 30,
     "metadata": {},
     "output_type": "execute_result"
    }
   ],
   "source": [
    "find_related_search_terms('kt')"
   ]
  },
  {
   "cell_type": "code",
   "execution_count": null,
   "metadata": {},
   "outputs": [],
   "source": []
  }
 ],
 "metadata": {
  "kernelspec": {
   "display_name": "Python 3.9.12 64-bit",
   "language": "python",
   "name": "python3"
  },
  "language_info": {
   "codemirror_mode": {
    "name": "ipython",
    "version": 3
   },
   "file_extension": ".py",
   "mimetype": "text/x-python",
   "name": "python",
   "nbconvert_exporter": "python",
   "pygments_lexer": "ipython3",
   "version": "3.9.12"
  },
  "orig_nbformat": 4,
  "vscode": {
   "interpreter": {
    "hash": "aee8b7b246df8f9039afb4144a1f6fd8d2ca17a180786b69acc140d282b71a49"
   }
  }
 },
 "nbformat": 4,
 "nbformat_minor": 2
}
