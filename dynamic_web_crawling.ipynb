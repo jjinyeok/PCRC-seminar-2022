{
 "cells": [
  {
   "cell_type": "markdown",
   "metadata": {},
   "source": [
    "### 동적 웹 크롤링 실습"
   ]
  },
  {
   "cell_type": "code",
   "execution_count": 6,
   "metadata": {},
   "outputs": [
    {
     "name": "stdout",
     "output_type": "stream",
     "text": [
      "Requirement already satisfied: pandas in /Library/Frameworks/Python.framework/Versions/3.9/lib/python3.9/site-packages (1.4.4)\n",
      "Requirement already satisfied: requests in /Library/Frameworks/Python.framework/Versions/3.9/lib/python3.9/site-packages (2.27.1)\n",
      "Requirement already satisfied: python-dateutil>=2.8.1 in /Library/Frameworks/Python.framework/Versions/3.9/lib/python3.9/site-packages (from pandas) (2.8.2)\n",
      "Requirement already satisfied: numpy>=1.20.0 in /Library/Frameworks/Python.framework/Versions/3.9/lib/python3.9/site-packages (from pandas) (1.22.3)\n",
      "Requirement already satisfied: pytz>=2020.1 in /Library/Frameworks/Python.framework/Versions/3.9/lib/python3.9/site-packages (from pandas) (2022.2.1)\n",
      "Requirement already satisfied: charset-normalizer~=2.0.0 in /Library/Frameworks/Python.framework/Versions/3.9/lib/python3.9/site-packages (from requests) (2.0.12)\n",
      "Requirement already satisfied: certifi>=2017.4.17 in /Library/Frameworks/Python.framework/Versions/3.9/lib/python3.9/site-packages (from requests) (2021.10.8)\n",
      "Requirement already satisfied: urllib3<1.27,>=1.21.1 in /Library/Frameworks/Python.framework/Versions/3.9/lib/python3.9/site-packages (from requests) (1.26.9)\n",
      "Requirement already satisfied: idna<4,>=2.5 in /Library/Frameworks/Python.framework/Versions/3.9/lib/python3.9/site-packages (from requests) (3.3)\n",
      "Requirement already satisfied: six>=1.5 in /Library/Frameworks/Python.framework/Versions/3.9/lib/python3.9/site-packages (from python-dateutil>=2.8.1->pandas) (1.16.0)\n",
      "\u001b[33mWARNING: You are using pip version 22.0.4; however, version 22.2.2 is available.\n",
      "You should consider upgrading via the '/usr/local/bin/python3 -m pip install --upgrade pip' command.\u001b[0m\u001b[33m\n",
      "\u001b[0mNote: you may need to restart the kernel to use updated packages.\n"
     ]
    }
   ],
   "source": [
    "%pip install pandas requests"
   ]
  },
  {
   "cell_type": "code",
   "execution_count": 7,
   "metadata": {},
   "outputs": [],
   "source": [
    "import pandas as pd\n",
    "import requests"
   ]
  },
  {
   "cell_type": "code",
   "execution_count": 43,
   "metadata": {},
   "outputs": [
    {
     "name": "stdout",
     "output_type": "stream",
     "text": [
      "<Response [200]>\n",
      "[{\"localTradedAt\":\"2022-08-19\",\"closePrice\":\"2,492.69\",\"compareToPreviousClosePrice\":\"-15.36\",\"compa\n",
      "{'localTradedAt': '2022-08-19', 'closePrice': '2,492.69', 'compareToPreviousClosePrice': '-15.36', 'compareToPreviousPrice': {'code': '5', 'text': '하락', 'name': 'FALLING'}, 'fluctuationsRatio': '-0.61', 'openPrice': '2,510.72', 'highPrice': '2,510.72', 'lowPrice': '2,492.69'}\n"
     ]
    },
    {
     "data": {
      "text/html": [
       "<div>\n",
       "<style scoped>\n",
       "    .dataframe tbody tr th:only-of-type {\n",
       "        vertical-align: middle;\n",
       "    }\n",
       "\n",
       "    .dataframe tbody tr th {\n",
       "        vertical-align: top;\n",
       "    }\n",
       "\n",
       "    .dataframe thead th {\n",
       "        text-align: right;\n",
       "    }\n",
       "</style>\n",
       "<table border=\"1\" class=\"dataframe\">\n",
       "  <thead>\n",
       "    <tr style=\"text-align: right;\">\n",
       "      <th></th>\n",
       "      <th>localTradedAt</th>\n",
       "      <th>closePrice</th>\n",
       "      <th>compareToPreviousClosePrice</th>\n",
       "      <th>compareToPreviousPrice</th>\n",
       "      <th>fluctuationsRatio</th>\n",
       "      <th>openPrice</th>\n",
       "      <th>highPrice</th>\n",
       "      <th>lowPrice</th>\n",
       "    </tr>\n",
       "  </thead>\n",
       "  <tbody>\n",
       "    <tr>\n",
       "      <th>0</th>\n",
       "      <td>2022-08-19</td>\n",
       "      <td>2,492.69</td>\n",
       "      <td>-15.36</td>\n",
       "      <td>{'code': '5', 'text': '하락', 'name': 'FALLING'}</td>\n",
       "      <td>-0.61</td>\n",
       "      <td>2,510.72</td>\n",
       "      <td>2,510.72</td>\n",
       "      <td>2,492.69</td>\n",
       "    </tr>\n",
       "    <tr>\n",
       "      <th>1</th>\n",
       "      <td>2022-08-18</td>\n",
       "      <td>2,508.05</td>\n",
       "      <td>-8.42</td>\n",
       "      <td>{'code': '5', 'text': '하락', 'name': 'FALLING'}</td>\n",
       "      <td>-0.33</td>\n",
       "      <td>2,499.30</td>\n",
       "      <td>2,515.37</td>\n",
       "      <td>2,488.09</td>\n",
       "    </tr>\n",
       "    <tr>\n",
       "      <th>2</th>\n",
       "      <td>2022-08-17</td>\n",
       "      <td>2,516.47</td>\n",
       "      <td>-17.05</td>\n",
       "      <td>{'code': '5', 'text': '하락', 'name': 'FALLING'}</td>\n",
       "      <td>-0.67</td>\n",
       "      <td>2,536.57</td>\n",
       "      <td>2,543.15</td>\n",
       "      <td>2,512.01</td>\n",
       "    </tr>\n",
       "    <tr>\n",
       "      <th>3</th>\n",
       "      <td>2022-08-16</td>\n",
       "      <td>2,533.52</td>\n",
       "      <td>5.58</td>\n",
       "      <td>{'code': '2', 'text': '상승', 'name': 'RISING'}</td>\n",
       "      <td>0.22</td>\n",
       "      <td>2,543.05</td>\n",
       "      <td>2,546.35</td>\n",
       "      <td>2,532.20</td>\n",
       "    </tr>\n",
       "    <tr>\n",
       "      <th>4</th>\n",
       "      <td>2022-08-12</td>\n",
       "      <td>2,527.94</td>\n",
       "      <td>4.16</td>\n",
       "      <td>{'code': '2', 'text': '상승', 'name': 'RISING'}</td>\n",
       "      <td>0.16</td>\n",
       "      <td>2,519.66</td>\n",
       "      <td>2,533.20</td>\n",
       "      <td>2,514.31</td>\n",
       "    </tr>\n",
       "    <tr>\n",
       "      <th>5</th>\n",
       "      <td>2022-08-11</td>\n",
       "      <td>2,523.78</td>\n",
       "      <td>42.90</td>\n",
       "      <td>{'code': '2', 'text': '상승', 'name': 'RISING'}</td>\n",
       "      <td>1.73</td>\n",
       "      <td>2,507.74</td>\n",
       "      <td>2,523.78</td>\n",
       "      <td>2,506.41</td>\n",
       "    </tr>\n",
       "    <tr>\n",
       "      <th>6</th>\n",
       "      <td>2022-08-10</td>\n",
       "      <td>2,480.88</td>\n",
       "      <td>-22.58</td>\n",
       "      <td>{'code': '5', 'text': '하락', 'name': 'FALLING'}</td>\n",
       "      <td>-0.90</td>\n",
       "      <td>2,493.70</td>\n",
       "      <td>2,494.15</td>\n",
       "      <td>2,478.21</td>\n",
       "    </tr>\n",
       "    <tr>\n",
       "      <th>7</th>\n",
       "      <td>2022-08-09</td>\n",
       "      <td>2,503.46</td>\n",
       "      <td>10.36</td>\n",
       "      <td>{'code': '2', 'text': '상승', 'name': 'RISING'}</td>\n",
       "      <td>0.42</td>\n",
       "      <td>2,493.57</td>\n",
       "      <td>2,506.49</td>\n",
       "      <td>2,481.36</td>\n",
       "    </tr>\n",
       "    <tr>\n",
       "      <th>8</th>\n",
       "      <td>2022-08-08</td>\n",
       "      <td>2,493.10</td>\n",
       "      <td>2.30</td>\n",
       "      <td>{'code': '2', 'text': '상승', 'name': 'RISING'}</td>\n",
       "      <td>0.09</td>\n",
       "      <td>2,481.17</td>\n",
       "      <td>2,494.00</td>\n",
       "      <td>2,477.76</td>\n",
       "    </tr>\n",
       "    <tr>\n",
       "      <th>9</th>\n",
       "      <td>2022-08-05</td>\n",
       "      <td>2,490.80</td>\n",
       "      <td>17.69</td>\n",
       "      <td>{'code': '2', 'text': '상승', 'name': 'RISING'}</td>\n",
       "      <td>0.72</td>\n",
       "      <td>2,481.43</td>\n",
       "      <td>2,497.58</td>\n",
       "      <td>2,480.05</td>\n",
       "    </tr>\n",
       "  </tbody>\n",
       "</table>\n",
       "</div>"
      ],
      "text/plain": [
       "  localTradedAt closePrice compareToPreviousClosePrice  \\\n",
       "0    2022-08-19   2,492.69                      -15.36   \n",
       "1    2022-08-18   2,508.05                       -8.42   \n",
       "2    2022-08-17   2,516.47                      -17.05   \n",
       "3    2022-08-16   2,533.52                        5.58   \n",
       "4    2022-08-12   2,527.94                        4.16   \n",
       "5    2022-08-11   2,523.78                       42.90   \n",
       "6    2022-08-10   2,480.88                      -22.58   \n",
       "7    2022-08-09   2,503.46                       10.36   \n",
       "8    2022-08-08   2,493.10                        2.30   \n",
       "9    2022-08-05   2,490.80                       17.69   \n",
       "\n",
       "                           compareToPreviousPrice fluctuationsRatio openPrice  \\\n",
       "0  {'code': '5', 'text': '하락', 'name': 'FALLING'}             -0.61  2,510.72   \n",
       "1  {'code': '5', 'text': '하락', 'name': 'FALLING'}             -0.33  2,499.30   \n",
       "2  {'code': '5', 'text': '하락', 'name': 'FALLING'}             -0.67  2,536.57   \n",
       "3   {'code': '2', 'text': '상승', 'name': 'RISING'}              0.22  2,543.05   \n",
       "4   {'code': '2', 'text': '상승', 'name': 'RISING'}              0.16  2,519.66   \n",
       "5   {'code': '2', 'text': '상승', 'name': 'RISING'}              1.73  2,507.74   \n",
       "6  {'code': '5', 'text': '하락', 'name': 'FALLING'}             -0.90  2,493.70   \n",
       "7   {'code': '2', 'text': '상승', 'name': 'RISING'}              0.42  2,493.57   \n",
       "8   {'code': '2', 'text': '상승', 'name': 'RISING'}              0.09  2,481.17   \n",
       "9   {'code': '2', 'text': '상승', 'name': 'RISING'}              0.72  2,481.43   \n",
       "\n",
       "  highPrice  lowPrice  \n",
       "0  2,510.72  2,492.69  \n",
       "1  2,515.37  2,488.09  \n",
       "2  2,543.15  2,512.01  \n",
       "3  2,546.35  2,532.20  \n",
       "4  2,533.20  2,514.31  \n",
       "5  2,523.78  2,506.41  \n",
       "6  2,494.15  2,478.21  \n",
       "7  2,506.49  2,481.36  \n",
       "8  2,494.00  2,477.76  \n",
       "9  2,497.58  2,480.05  "
      ]
     },
     "execution_count": 43,
     "metadata": {},
     "output_type": "execute_result"
    }
   ],
   "source": [
    "url = 'https://m.stock.naver.com/api/index/KOSPI/price?pageSize=10&page=2'\n",
    "response = requests.get(url)\n",
    "print(response) # <Response [200]>\n",
    "print(response.text[:100]) # '[{\"localTradedAt\":\"2022-08-19\",\"closePrice\":\"2,492.69\",\"compareToPreviousClosePrice\":\"-15.36\",\"compa'\n",
    "response_json = response.json()\n",
    "print(response_json[0])\n",
    "# {'localTradedAt': '2022-08-19',\n",
    "#  'closePrice': '2,492.69',\n",
    "#  'compareToPreviousClosePrice': '-15.36',\n",
    "#  'compareToPreviousPrice': {'code': '5', 'text': '하락', 'name': 'FALLING'},\n",
    "#  'fluctuationsRatio': '-0.61',\n",
    "#  'openPrice': '2,510.72',\n",
    "#  'highPrice': '2,510.72',\n",
    "#  'lowPrice': '2,492.69'}\n",
    "len(response_json) # 10\n",
    "pd.DataFrame(response_json)"
   ]
  },
  {
   "cell_type": "code",
   "execution_count": 24,
   "metadata": {},
   "outputs": [],
   "source": [
    "def crawl_KOSPI(pageSize, page):\n",
    "    url = f'https://m.stock.naver.com/api/index/KOSPI/price?pageSize={pageSize}&page={page}'\n",
    "    response = requests.get(url)\n",
    "    response_json = response.json()\n",
    "    len(response_json) \n",
    "    return pd.DataFrame(response_json)\n"
   ]
  },
  {
   "cell_type": "code",
   "execution_count": 42,
   "metadata": {},
   "outputs": [
    {
     "name": "stdout",
     "output_type": "stream",
     "text": [
      "<Response [403]>\n"
     ]
    }
   ],
   "source": [
    "import requests\n",
    "response = requests.get('https://finance.daum.net/api/exchanges/summaries')\n",
    "print(response)\n",
    "# <Response [403]>"
   ]
  },
  {
   "cell_type": "code",
   "execution_count": 44,
   "metadata": {},
   "outputs": [
    {
     "name": "stdout",
     "output_type": "stream",
     "text": [
      "<Response [200]>\n",
      "                  date  symbolCode currencyCode  basePrice\n",
      "0  2022-09-02 21:52:04  FRX.KRWUSD          USD    1362.00\n",
      "1  2022-09-02 21:52:03  FRX.KRWJPY          JPY     971.09\n",
      "2  2022-09-02 21:52:02  FRX.KRWCNY          CNY     197.17\n",
      "3  2022-09-02 21:52:03  FRX.KRWEUR          EUR    1365.13\n",
      "4  2022-09-02 21:52:03  FRX.KRWGBP          GBP    1577.20\n"
     ]
    }
   ],
   "source": [
    "import requests\n",
    "import pandas as pd\n",
    "\n",
    "headers = {\n",
    "    'user-agent': 'Mozilla/5.0 (Macintosh; Intel Mac OS X 10_15_7) AppleWebKit/537.36 (KHTML, like Gecko) Chrome/104.0.0.0 Safari/537.36',\n",
    "    'referer': 'https://finance.daum.net/exchanges',\n",
    "}\n",
    "response = requests.get('https://finance.daum.net/api/exchanges/summaries', headers=headers)\n",
    "print(response)\n",
    "# <Response [200]>\n",
    "\n",
    "data = response.json()['data']\n",
    "df = pd.DataFrame(data)[['date', 'symbolCode', 'currencyCode', 'basePrice']]\n",
    "print(df.head())\n",
    "#                   date  symbolCode currencyCode  basePrice\n",
    "# 0  2022-09-02 21:52:04  FRX.KRWUSD          USD    1362.00\n",
    "# 1  2022-09-02 21:52:03  FRX.KRWJPY          JPY     971.09\n",
    "# 2  2022-09-02 21:52:02  FRX.KRWCNY          CNY     197.17\n",
    "# 3  2022-09-02 21:52:03  FRX.KRWEUR          EUR    1365.13\n",
    "# 4  2022-09-02 21:52:03  FRX.KRWGBP          GBP    1577.20"
   ]
  },
  {
   "cell_type": "code",
   "execution_count": null,
   "metadata": {},
   "outputs": [],
   "source": []
  }
 ],
 "metadata": {
  "kernelspec": {
   "display_name": "Python 3.9.12 64-bit",
   "language": "python",
   "name": "python3"
  },
  "language_info": {
   "codemirror_mode": {
    "name": "ipython",
    "version": 3
   },
   "file_extension": ".py",
   "mimetype": "text/x-python",
   "name": "python",
   "nbconvert_exporter": "python",
   "pygments_lexer": "ipython3",
   "version": "3.9.12"
  },
  "orig_nbformat": 4,
  "vscode": {
   "interpreter": {
    "hash": "aee8b7b246df8f9039afb4144a1f6fd8d2ca17a180786b69acc140d282b71a49"
   }
  }
 },
 "nbformat": 4,
 "nbformat_minor": 2
}
